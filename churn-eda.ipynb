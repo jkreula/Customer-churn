{
 "cells": [
  {
   "cell_type": "code",
   "execution_count": 2,
   "metadata": {},
   "outputs": [],
   "source": [
    "from zipfile import ZipFile\n",
    "import os\n",
    "\n",
    "def extract_zip(zip_path: str) -> None:\n",
    "    try:\n",
    "        with ZipFile(zip_path, \"r\") as zf:\n",
    "            zf.extractall()\n",
    "    except:\n",
    "        print(f\"Error in extracting zip file at {zip_file}!\")\n",
    "        \n",
    "curr_dir = os.path.abspath('')\n",
    "zipfile = \"\""
   ]
  },
  {
   "cell_type": "code",
   "execution_count": 4,
   "metadata": {},
   "outputs": [
    {
     "name": "stdout",
     "output_type": "stream",
     "text": [
      "/Users/jkreula/Desktop/Programming/Python-practice/pandas/Customer-churn\n"
     ]
    }
   ],
   "source": [
    "\n",
    "print(curr_dir)"
   ]
  },
  {
   "cell_type": "code",
   "execution_count": null,
   "metadata": {},
   "outputs": [],
   "source": []
  }
 ],
 "metadata": {
  "kernelspec": {
   "display_name": "Python 3",
   "language": "python",
   "name": "python3"
  },
  "language_info": {
   "codemirror_mode": {
    "name": "ipython",
    "version": 3
   },
   "file_extension": ".py",
   "mimetype": "text/x-python",
   "name": "python",
   "nbconvert_exporter": "python",
   "pygments_lexer": "ipython3",
   "version": "3.8.3"
  }
 },
 "nbformat": 4,
 "nbformat_minor": 4
}
